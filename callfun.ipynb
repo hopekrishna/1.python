{
 "cells": [
  {
   "cell_type": "code",
   "execution_count": 2,
   "id": "7a4e0390",
   "metadata": {},
   "outputs": [
    {
     "name": "stdout",
     "output_type": "stream",
     "text": [
      "subject1:96\n",
      "subject2:89\n",
      "subject3:90\n",
      "subject4:79\n",
      "subject5:99\n",
      "Total: 453\n"
     ]
    },
    {
     "data": {
      "text/plain": [
       "90.60000000000001"
      ]
     },
     "execution_count": 2,
     "metadata": {},
     "output_type": "execute_result"
    }
   ],
   "source": [
    "from multifunctions import multifunction\n",
    "multifunction.percentage()\n"
   ]
  },
  {
   "cell_type": "code",
   "execution_count": null,
   "id": "50970825",
   "metadata": {},
   "outputs": [],
   "source": []
  }
 ],
 "metadata": {
  "kernelspec": {
   "display_name": "Python 3 (ipykernel)",
   "language": "python",
   "name": "python3"
  },
  "language_info": {
   "codemirror_mode": {
    "name": "ipython",
    "version": 3
   },
   "file_extension": ".py",
   "mimetype": "text/x-python",
   "name": "python",
   "nbconvert_exporter": "python",
   "pygments_lexer": "ipython3",
   "version": "3.11.5"
  }
 },
 "nbformat": 4,
 "nbformat_minor": 5
}
